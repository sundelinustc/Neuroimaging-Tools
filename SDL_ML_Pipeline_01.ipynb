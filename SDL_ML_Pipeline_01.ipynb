{
 "cells": [
  {
   "cell_type": "markdown",
   "metadata": {},
   "source": [
    "### Data Info\n",
    "The sample data are 4005 resting-state functional connectivity between 90 pairs of cortical regions based on FindLab's atlas.\n",
    "\n",
    "The data are from 648 subjects (360 controls and 288 PTSD patients) in 5 sites aggregated by the PGC ENIGMA PTSD project.\n",
    "\n",
    "The data were preprocessed using ComBat-GAM to remove the site effects while preserving the biologically relevant information including PTSD diagnosis, age, and sex. The nonlinear trend of age was also considered by ComBat-GAM.\n",
    "\n",
    "The aim of this script is to use resting-state functional connectivity to classify people with and without PTSD."
   ]
  },
  {
   "cell_type": "code",
   "execution_count": 101,
   "metadata": {},
   "outputs": [
    {
     "data": {
      "text/html": [
       "<div>\n",
       "<style scoped>\n",
       "    .dataframe tbody tr th:only-of-type {\n",
       "        vertical-align: middle;\n",
       "    }\n",
       "\n",
       "    .dataframe tbody tr th {\n",
       "        vertical-align: top;\n",
       "    }\n",
       "\n",
       "    .dataframe thead th {\n",
       "        text-align: right;\n",
       "    }\n",
       "</style>\n",
       "<table border=\"1\" class=\"dataframe\">\n",
       "  <thead>\n",
       "    <tr style=\"text-align: right;\">\n",
       "      <th></th>\n",
       "      <th>fID</th>\n",
       "      <th>SiteName</th>\n",
       "      <th>SITE</th>\n",
       "      <th>Group</th>\n",
       "      <th>NewGroup</th>\n",
       "      <th>Age</th>\n",
       "      <th>Sex</th>\n",
       "      <th>V1</th>\n",
       "      <th>V2</th>\n",
       "      <th>V3</th>\n",
       "      <th>...</th>\n",
       "      <th>V3996</th>\n",
       "      <th>V3997</th>\n",
       "      <th>V3998</th>\n",
       "      <th>V3999</th>\n",
       "      <th>V4000</th>\n",
       "      <th>V4001</th>\n",
       "      <th>V4002</th>\n",
       "      <th>V4003</th>\n",
       "      <th>V4004</th>\n",
       "      <th>V4005</th>\n",
       "    </tr>\n",
       "  </thead>\n",
       "  <tbody>\n",
       "    <tr>\n",
       "      <th>0</th>\n",
       "      <td>AMC_1132</td>\n",
       "      <td>BOOSTER study</td>\n",
       "      <td>6</td>\n",
       "      <td>-1</td>\n",
       "      <td>-1</td>\n",
       "      <td>29.0</td>\n",
       "      <td>1</td>\n",
       "      <td>0.781764</td>\n",
       "      <td>0.617034</td>\n",
       "      <td>0.303107</td>\n",
       "      <td>...</td>\n",
       "      <td>0.222468</td>\n",
       "      <td>0.265792</td>\n",
       "      <td>0.206213</td>\n",
       "      <td>0.024372</td>\n",
       "      <td>0.112773</td>\n",
       "      <td>-0.047370</td>\n",
       "      <td>0.184605</td>\n",
       "      <td>0.115313</td>\n",
       "      <td>0.685608</td>\n",
       "      <td>0.048506</td>\n",
       "    </tr>\n",
       "    <tr>\n",
       "      <th>1</th>\n",
       "      <td>AMC_1133</td>\n",
       "      <td>BOOSTER study</td>\n",
       "      <td>6</td>\n",
       "      <td>-1</td>\n",
       "      <td>-1</td>\n",
       "      <td>57.0</td>\n",
       "      <td>1</td>\n",
       "      <td>0.461970</td>\n",
       "      <td>0.568129</td>\n",
       "      <td>0.424011</td>\n",
       "      <td>...</td>\n",
       "      <td>0.263550</td>\n",
       "      <td>0.064922</td>\n",
       "      <td>-0.024707</td>\n",
       "      <td>0.103043</td>\n",
       "      <td>0.036448</td>\n",
       "      <td>0.299417</td>\n",
       "      <td>0.228011</td>\n",
       "      <td>0.009992</td>\n",
       "      <td>0.129018</td>\n",
       "      <td>0.273513</td>\n",
       "    </tr>\n",
       "    <tr>\n",
       "      <th>2</th>\n",
       "      <td>AMC_1134</td>\n",
       "      <td>BOOSTER study</td>\n",
       "      <td>6</td>\n",
       "      <td>-1</td>\n",
       "      <td>-1</td>\n",
       "      <td>28.0</td>\n",
       "      <td>1</td>\n",
       "      <td>0.573399</td>\n",
       "      <td>0.661576</td>\n",
       "      <td>0.473030</td>\n",
       "      <td>...</td>\n",
       "      <td>0.441894</td>\n",
       "      <td>0.429557</td>\n",
       "      <td>0.262698</td>\n",
       "      <td>0.541580</td>\n",
       "      <td>-0.162284</td>\n",
       "      <td>0.228165</td>\n",
       "      <td>0.229438</td>\n",
       "      <td>0.714528</td>\n",
       "      <td>0.582166</td>\n",
       "      <td>0.373303</td>\n",
       "    </tr>\n",
       "    <tr>\n",
       "      <th>3</th>\n",
       "      <td>AMC_1135</td>\n",
       "      <td>BOOSTER study</td>\n",
       "      <td>6</td>\n",
       "      <td>-1</td>\n",
       "      <td>-1</td>\n",
       "      <td>37.0</td>\n",
       "      <td>1</td>\n",
       "      <td>0.611681</td>\n",
       "      <td>0.219745</td>\n",
       "      <td>0.174806</td>\n",
       "      <td>...</td>\n",
       "      <td>0.609247</td>\n",
       "      <td>0.335831</td>\n",
       "      <td>0.203155</td>\n",
       "      <td>0.677713</td>\n",
       "      <td>0.219033</td>\n",
       "      <td>0.158510</td>\n",
       "      <td>0.407728</td>\n",
       "      <td>0.296747</td>\n",
       "      <td>0.277458</td>\n",
       "      <td>0.477866</td>\n",
       "    </tr>\n",
       "    <tr>\n",
       "      <th>4</th>\n",
       "      <td>AMC_1136</td>\n",
       "      <td>BOOSTER study</td>\n",
       "      <td>6</td>\n",
       "      <td>-1</td>\n",
       "      <td>-1</td>\n",
       "      <td>45.0</td>\n",
       "      <td>1</td>\n",
       "      <td>0.730630</td>\n",
       "      <td>0.455293</td>\n",
       "      <td>0.433711</td>\n",
       "      <td>...</td>\n",
       "      <td>0.464991</td>\n",
       "      <td>0.729394</td>\n",
       "      <td>0.556331</td>\n",
       "      <td>0.271449</td>\n",
       "      <td>0.563293</td>\n",
       "      <td>0.617926</td>\n",
       "      <td>0.705818</td>\n",
       "      <td>0.500628</td>\n",
       "      <td>0.286663</td>\n",
       "      <td>0.506800</td>\n",
       "    </tr>\n",
       "  </tbody>\n",
       "</table>\n",
       "<p>5 rows × 4012 columns</p>\n",
       "</div>"
      ],
      "text/plain": [
       "        fID       SiteName  SITE  Group  NewGroup   Age  Sex        V1  \\\n",
       "0  AMC_1132  BOOSTER study     6     -1        -1  29.0    1  0.781764   \n",
       "1  AMC_1133  BOOSTER study     6     -1        -1  57.0    1  0.461970   \n",
       "2  AMC_1134  BOOSTER study     6     -1        -1  28.0    1  0.573399   \n",
       "3  AMC_1135  BOOSTER study     6     -1        -1  37.0    1  0.611681   \n",
       "4  AMC_1136  BOOSTER study     6     -1        -1  45.0    1  0.730630   \n",
       "\n",
       "         V2        V3  ...     V3996     V3997     V3998     V3999     V4000  \\\n",
       "0  0.617034  0.303107  ...  0.222468  0.265792  0.206213  0.024372  0.112773   \n",
       "1  0.568129  0.424011  ...  0.263550  0.064922 -0.024707  0.103043  0.036448   \n",
       "2  0.661576  0.473030  ...  0.441894  0.429557  0.262698  0.541580 -0.162284   \n",
       "3  0.219745  0.174806  ...  0.609247  0.335831  0.203155  0.677713  0.219033   \n",
       "4  0.455293  0.433711  ...  0.464991  0.729394  0.556331  0.271449  0.563293   \n",
       "\n",
       "      V4001     V4002     V4003     V4004     V4005  \n",
       "0 -0.047370  0.184605  0.115313  0.685608  0.048506  \n",
       "1  0.299417  0.228011  0.009992  0.129018  0.273513  \n",
       "2  0.228165  0.229438  0.714528  0.582166  0.373303  \n",
       "3  0.158510  0.407728  0.296747  0.277458  0.477866  \n",
       "4  0.617926  0.705818  0.500628  0.286663  0.506800  \n",
       "\n",
       "[5 rows x 4012 columns]"
      ]
     },
     "execution_count": 101,
     "metadata": {},
     "output_type": "execute_result"
    }
   ],
   "source": [
    "# Load packages\n",
    "import pandas as pd\n",
    "import numpy as np\n",
    "\n",
    "# Load data\n",
    "fname = \"..\\\\Output\\\\FindLab90\\\\timeseries_PTSD\\\\All_harmonized.csv\"\n",
    "df = pd.read_csv(fname, )\n",
    "df.head()"
   ]
  },
  {
   "cell_type": "markdown",
   "metadata": {},
   "source": [
    "### Label Encoder"
   ]
  },
  {
   "cell_type": "code",
   "execution_count": 102,
   "metadata": {},
   "outputs": [
    {
     "data": {
      "text/plain": [
       "array([[ -1, 360],\n",
       "       [  1, 288]], dtype=int64)"
      ]
     },
     "execution_count": 102,
     "metadata": {},
     "output_type": "execute_result"
    }
   ],
   "source": [
    "from sklearn.preprocessing import LabelEncoder\n",
    "X = df.iloc[:, 8:].values # data are 4005 resting-state functional connections between 90 pairs of cortical regions\n",
    "y = df.iloc[:, 4].values # group labels, -1=control, 1&2=PTSD\n",
    "y[y>-1] = 1 # 1 and 2 -> 1\n",
    "# show the number of subjects per group\n",
    "uniq, counts = np.unique(y, return_counts=True)\n",
    "np.asarray([uniq, counts]).T"
   ]
  },
  {
   "cell_type": "code",
   "execution_count": 103,
   "metadata": {},
   "outputs": [
    {
     "data": {
      "text/plain": [
       "array([0, 1], dtype=int64)"
      ]
     },
     "execution_count": 103,
     "metadata": {},
     "output_type": "execute_result"
    }
   ],
   "source": [
    "le = LabelEncoder()\n",
    "y = le.fit_transform(y)\n",
    "le.transform([-1, 1]) # now 0=Control, 1=PTSD"
   ]
  },
  {
   "cell_type": "markdown",
   "metadata": {},
   "source": [
    "### Train Test Split"
   ]
  },
  {
   "cell_type": "code",
   "execution_count": 104,
   "metadata": {},
   "outputs": [],
   "source": [
    "from sklearn.model_selection import train_test_split\n",
    "X_train, X_test, y_train, y_test = train_test_split(X, y, test_size=0.2, random_state=1) # ??? random_state"
   ]
  },
  {
   "cell_type": "markdown",
   "metadata": {},
   "source": [
    "### Pipeline"
   ]
  },
  {
   "cell_type": "markdown",
   "metadata": {},
   "source": [
    "##### Packages related to pipeline"
   ]
  },
  {
   "cell_type": "code",
   "execution_count": 105,
   "metadata": {},
   "outputs": [],
   "source": [
    "from sklearn.preprocessing import StandardScaler\n",
    "from sklearn.decomposition import PCA\n",
    "from sklearn.linear_model import LogisticRegression\n",
    "from sklearn.pipeline import Pipeline"
   ]
  },
  {
   "cell_type": "markdown",
   "metadata": {},
   "source": [
    "##### Pipeline: LogisticRegression"
   ]
  },
  {
   "cell_type": "code",
   "execution_count": 106,
   "metadata": {},
   "outputs": [
    {
     "name": "stdout",
     "output_type": "stream",
     "text": [
      "test accuracy: 0.585\n"
     ]
    }
   ],
   "source": [
    "pipe_lr = Pipeline([('scl', StandardScaler()),\n",
    "                   ('pca', PCA(n_components=3)),\n",
    "                   ('clf', LogisticRegression(random_state=1))])\n",
    "pipe_lr.fit(X_train, y_train)\n",
    "print(\"test accuracy: %.3f\" % pipe_lr.score(X_test, y_test))\n",
    "y_predict = pipe_lr.predict(X_test)"
   ]
  },
  {
   "cell_type": "markdown",
   "metadata": {},
   "source": [
    "###### K-folder corss-validation"
   ]
  },
  {
   "cell_type": "code",
   "execution_count": 107,
   "metadata": {},
   "outputs": [
    {
     "name": "stdout",
     "output_type": "stream",
     "text": [
      "Cross validation accuracy scores: [0.57692308 0.57692308 0.55769231 0.57692308 0.53846154 0.57692308\n",
      " 0.57692308 0.53846154 0.54901961 0.49019608]\n",
      "Cross validation accuracy: 0.556 +/- 0.027\n"
     ]
    }
   ],
   "source": [
    "from sklearn.model_selection import cross_val_score\n",
    "scores = cross_val_score(estimator=pipe_lr, X=X_train, y=y_train, cv=10, n_jobs=1) # ??? n_jobs meaning\n",
    "print(\"Cross validation accuracy scores: %s\" % scores)\n",
    "print(\"Cross validation accuracy: %.3f +/- %.3f\" % (np.mean(scores), np.std(scores)))"
   ]
  },
  {
   "cell_type": "markdown",
   "metadata": {},
   "source": [
    "### Hyper-parameters"
   ]
  },
  {
   "cell_type": "markdown",
   "metadata": {},
   "source": [
    "##### Learning curve: accuracy ~ number of sample"
   ]
  },
  {
   "cell_type": "code",
   "execution_count": 115,
   "metadata": {},
   "outputs": [],
   "source": [
    "import matplotlib.pyplot as plt\n",
    "from sklearn.model_selection import learning_curve\n",
    "\n",
    "pipe_lr = Pipeline([('scl', StandardScaler()),\n",
    "                   ('pca', PCA(n_components=8)),\n",
    "                   ('clf', LogisticRegression(penalty='l2', C=1, random_state=1))]) # ??? pca need or not? l2 or l1 penalty?\n",
    "\n",
    "train_sizes, train_scores, test_scores = learning_curve(estimator=pipe_lr, X=X_train, y=y_train, train_sizes=np.linspace(0.1, 1, 10), cv=5, n_jobs=1)\n",
    "\n",
    "train_mean = np.mean(train_scores, axis=1)\n",
    "train_std  = np.std(train_scores, axis=1)\n",
    "test_mean  = np.mean(test_scores, axis=1)\n",
    "test_std   = np.std(test_scores, axis=1)"
   ]
  },
  {
   "cell_type": "code",
   "execution_count": 116,
   "metadata": {},
   "outputs": [
    {
     "data": {
      "image/png": "[encoded data removed]",
      "text/plain": [
       "<Figure size 432x288 with 1 Axes>"
      ]
     },
     "metadata": {
      "needs_background": "light"
     },
     "output_type": "display_data"
    }
   ],
   "source": [
    "plt.plot(train_sizes, train_mean, color='blue', marker='o', markersize=5, label=\"training accuracy\")\n",
    "plt.fill_between(train_sizes, train_mean+train_std, train_mean-train_std, alpha=0.15, color='blue')\n",
    "\n",
    "plt.plot(train_sizes, test_mean, color='red', marker='s', markersize=5, label=\"validation accuracy\")\n",
    "plt.fill_between(train_sizes, test_mean+test_std, test_mean-test_std, alpha=0.15, color='red')\n",
    "\n",
    "plt.grid()\n",
    "plt.title('Logistic Regression')\n",
    "plt.xlabel('Number of training samples')\n",
    "plt.ylabel('Accuracy')\n",
    "plt.legend(loc='lower right')\n",
    "#plt.ylim([0.8, 1.0])\n",
    "plt.tight_layout()\n",
    "plt.show()"
   ]
  },
  {
   "cell_type": "markdown",
   "metadata": {},
   "source": [
    "##### validation curve: accuracy ~ Parameter C"
   ]
  },
  {
   "cell_type": "code",
   "execution_count": 110,
   "metadata": {},
   "outputs": [],
   "source": [
    "from sklearn.model_selection import validation_curve\n",
    "\n",
    "param_range = [0.001, 0.01, 0.1, 1, 10, 100]\n",
    "train_scores, test_scores = validation_curve(estimator=pipe_lr, X=X_train, y=y_train, param_name='clf__C', param_range=param_range, cv=10)\n",
    "train_mean = np.mean(train_scores, axis=1)\n",
    "train_std  = np.std(train_scores, axis=1)\n",
    "test_mean  = np.mean(test_scores, axis=1)\n",
    "test_std   = np.std(test_scores, axis=1)"
   ]
  },
  {
   "cell_type": "code",
   "execution_count": 113,
   "metadata": {},
   "outputs": [
    {
     "name": "stdout",
     "output_type": "stream",
     "text": [
      "Parameters that could be changed:\n"
     ]
    },
    {
     "data": {
      "text/plain": [
       "{'memory': None,\n",
       " 'steps': [('scl', StandardScaler()),\n",
       "  ('pca', PCA(n_components=2)),\n",
       "  ('clf', LogisticRegression(C=0.1, random_state=1))],\n",
       " 'verbose': False,\n",
       " 'scl': StandardScaler(),\n",
       " 'pca': PCA(n_components=2),\n",
       " 'clf': LogisticRegression(C=0.1, random_state=1),\n",
       " 'scl__copy': True,\n",
       " 'scl__with_mean': True,\n",
       " 'scl__with_std': True,\n",
       " 'pca__copy': True,\n",
       " 'pca__iterated_power': 'auto',\n",
       " 'pca__n_components': 2,\n",
       " 'pca__random_state': None,\n",
       " 'pca__svd_solver': 'auto',\n",
       " 'pca__tol': 0.0,\n",
       " 'pca__whiten': False,\n",
       " 'clf__C': 0.1,\n",
       " 'clf__class_weight': None,\n",
       " 'clf__dual': False,\n",
       " 'clf__fit_intercept': True,\n",
       " 'clf__intercept_scaling': 1,\n",
       " 'clf__l1_ratio': None,\n",
       " 'clf__max_iter': 100,\n",
       " 'clf__multi_class': 'auto',\n",
       " 'clf__n_jobs': None,\n",
       " 'clf__penalty': 'l2',\n",
       " 'clf__random_state': 1,\n",
       " 'clf__solver': 'lbfgs',\n",
       " 'clf__tol': 0.0001,\n",
       " 'clf__verbose': 0,\n",
       " 'clf__warm_start': False}"
      ]
     },
     "execution_count": 113,
     "metadata": {},
     "output_type": "execute_result"
    }
   ],
   "source": [
    "print('Parameters that could be changed:')\n",
    "pipe_lr.get_params()"
   ]
  },
  {
   "cell_type": "code",
   "execution_count": 112,
   "metadata": {},
   "outputs": [
    {
     "data": {
      "image/png": "[encoded data removed]",
      "text/plain": [
       "<Figure size 432x288 with 1 Axes>"
      ]
     },
     "metadata": {
      "needs_background": "light"
     },
     "output_type": "display_data"
    }
   ],
   "source": [
    "plt.plot(param_range, train_mean, color='blue', marker='o', markersize=5, label=\"training accuracy\")\n",
    "plt.fill_between(param_range, train_mean+train_std, train_mean-train_std, alpha=0.15, color='blue')\n",
    "\n",
    "plt.plot(param_range, test_mean, color='red', marker='s', markersize=5, label=\"validation accuracy\")\n",
    "plt.fill_between(param_range, test_mean+test_std, test_mean-test_std, alpha=0.15, color='red')\n",
    "\n",
    "plt.grid()\n",
    "plt.xscale('log')\n",
    "plt.title('Logistic Regression')\n",
    "plt.xlabel('Paramater C')\n",
    "plt.ylabel('Accuracy')\n",
    "plt.legend(loc='lower right')\n",
    "#plt.ylim([0.8, 1.0])\n",
    "plt.tight_layout()\n",
    "plt.show()"
   ]
  },
  {
   "cell_type": "markdown",
   "metadata": {},
   "source": [
    "##### grid search"
   ]
  },
  {
   "cell_type": "code",
   "execution_count": 114,
   "metadata": {},
   "outputs": [
    {
     "name": "stdout",
     "output_type": "stream",
     "text": [
      "Grid Search Best Score = \n",
      "Grid Search Best parameters:\n",
      "{'clf__C': 1, 'pca__n_components': 8}\n"
     ]
    }
   ],
   "source": [
    "from sklearn.model_selection import GridSearchCV\n",
    "\n",
    "param_range_C = [0.001, 0.01, 0.1, 1, 10, 100]\n",
    "param_range_pca_n_components = [2, 3, 4, 5, 6, 7, 8]\n",
    "\n",
    "param_grid = [{'clf__C':param_range_C,\n",
    "              'pca__n_components':param_range_pca_n_components}]\n",
    "\n",
    "gs = GridSearchCV(estimator=pipe_lr, param_grid=param_grid, scoring='accuracy', cv=10, n_jobs=-1) # ??? n_jobs=-1?\n",
    "gs = gs.fit(X_train, y_train)\n",
    "print('Grid Search Best Score = ' % gs.best_score_)\n",
    "print('Grid Search Best parameters:')\n",
    "print(gs.best_params_)"
   ]
  },
  {
   "cell_type": "code",
   "execution_count": null,
   "metadata": {},
   "outputs": [],
   "source": []
  }
 ],
 "metadata": {
  "kernelspec": {
   "display_name": "Python 3",
   "language": "python",
   "name": "python3"
  },
  "language_info": {
   "codemirror_mode": {
    "name": "ipython",
    "version": 3
   },
   "file_extension": ".py",
   "mimetype": "text/x-python",
   "name": "python",
   "nbconvert_exporter": "python",
   "pygments_lexer": "ipython3",
   "version": "3.8.5"
  }
 },
 "nbformat": 4,
 "nbformat_minor": 4
}
