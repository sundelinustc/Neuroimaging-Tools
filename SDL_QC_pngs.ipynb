{
 "cells": [
  {
   "cell_type": "markdown",
   "metadata": {},
   "source": [
    "### QC neuroimages\n",
    "Use nilearn package to generate the snapshots (.png files) of target image(s) for the ease of review"
   ]
  },
  {
   "cell_type": "code",
   "execution_count": null,
   "metadata": {},
   "outputs": [],
   "source": [
    "# Import packages\n",
    "from nilearn import plotting # to plot .nii or .nii.gz files\n",
    "import os # to list folders and files within a path\n",
    "\n",
    "# Paths\n",
    "path_project = 'Z:\\\\Data\\\\Lab\\\\PGC\\\\resting_state\\\\DynamicFC\\\\' # path to the project\n",
    "path_in = path_project + 'Results\\\\Seed-to-Voxels\\\\STW\\\\L_Amyg\\\\tw=36,overlap=0.5\\\\FC_SW_Variance\\\\' # path to the input data\n",
    "fdir_in = os.listdir(path_in) # list the folder names of all subjects\n",
    "path_out = path_project + '\\\\Results\\\\QC\\\\' # path to the outputs\n",
    "\n",
    "# Save .png file per subject\n",
    "for fdir in fdir_in:\n",
    "    fin  = path_in  + fdir + '\\\\' + 'Z_TV_' + fdir + '_FCM_variance.nii' # input image name\n",
    "    fout = path_out + fdir + '.png' # output image name\n",
    "    plotting.plot_img(fin, title=fdir, output_file=fout, cut_coords=(0,0,0), draw_cross=False) # nilearn function to plot images"
   ]
  }
 ],
 "metadata": {
  "kernelspec": {
   "display_name": "Python 3",
   "language": "python",
   "name": "python3"
  },
  "language_info": {
   "codemirror_mode": {
    "name": "ipython",
    "version": 3
   },
   "file_extension": ".py",
   "mimetype": "text/x-python",
   "name": "python",
   "nbconvert_exporter": "python",
   "pygments_lexer": "ipython3",
   "version": "3.8.5"
  }
 },
 "nbformat": 4,
 "nbformat_minor": 4
}
